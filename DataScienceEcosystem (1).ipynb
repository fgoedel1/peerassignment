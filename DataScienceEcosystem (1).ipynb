{
 "cells": [
  {
   "cell_type": "markdown",
   "id": "30abf6a2-9fd3-4508-9070-dddb9a2ae299",
   "metadata": {
    "tags": []
   },
   "source": [
    "###### Exercise 1: Create a Jupyter Notebook"
   ]
  },
  {
   "cell_type": "markdown",
   "id": "c7d857a5-e489-4098-9202-c30c9da340e5",
   "metadata": {
    "tags": []
   },
   "source": [
    "###### Exercise 2: Create markdown cell with title of the notebook"
   ]
  },
  {
   "cell_type": "markdown",
   "id": "7691b55c-111d-470f-b3fe-ac8b4636c75d",
   "metadata": {},
   "source": [
    "# Data Science Tools and Ecosystem"
   ]
  },
  {
   "cell_type": "markdown",
   "id": "a6d04589-7db7-4daf-9e01-1077f155cf19",
   "metadata": {
    "jp-MarkdownHeadingCollapsed": true,
    "tags": []
   },
   "source": [
    "###### Exercise 3 - Create a markdown cell for an introduction + Exercise 10"
   ]
  },
  {
   "cell_type": "markdown",
   "id": "bbdf6a97-54e1-4e65-8d0e-c3bf463151b4",
   "metadata": {},
   "source": [
    "##### In this notebook, Data Science Tools and Ecosystem are summarized."
   ]
  },
  {
   "cell_type": "markdown",
   "id": "76dbe555-63fa-4d13-b7c3-1c7d1fb73f13",
   "metadata": {},
   "source": [
    "##### In this notebook, Data Science Tools and Ecosystem are summarized."
   ]
  },
  {
   "cell_type": "markdown",
   "id": "0bea2946-af26-401f-a8c8-5487b600b78b",
   "metadata": {
    "jp-MarkdownHeadingCollapsed": true,
    "tags": []
   },
   "source": [
    "* List popular languages for data science\n",
    "* Important libraries for data science\n",
    "* how to do basic mathematical operations\n"
   ]
  },
  {
   "cell_type": "markdown",
   "id": "5dfb1586-d4b1-4452-ba2e-58d53872a1c3",
   "metadata": {
    "tags": []
   },
   "source": [
    "###### Exercise 4 - Create a markdown cell to list data science languages"
   ]
  },
  {
   "cell_type": "markdown",
   "id": "918587ba-520a-4075-8f7f-043d22f091eb",
   "metadata": {
    "tags": []
   },
   "source": [
    "### Some of the the popular languages that Data Scientists use are:"
   ]
  },
  {
   "cell_type": "markdown",
   "id": "cd71d4bf-8e2f-49d9-9437-a3c01dce8658",
   "metadata": {},
   "source": [
    "1. Python\n",
    "2. Scala\n",
    "3. R Studio\n"
   ]
  },
  {
   "cell_type": "markdown",
   "id": "3d7e2f82-ef10-4a11-93b0-b07a5bc3d8e5",
   "metadata": {},
   "source": [
    "1. Python\n",
    "2. Scala\n",
    "3. R Studio\n"
   ]
  },
  {
   "cell_type": "markdown",
   "id": "ccae48cb-c1b1-4c98-89a2-3f94e81220de",
   "metadata": {
    "tags": []
   },
   "source": [
    "###### Exercise 5 - Create a markdown cell to list data science libraries"
   ]
  },
  {
   "cell_type": "markdown",
   "id": "643c0a20-ab53-4109-b6db-89d26a50e462",
   "metadata": {
    "tags": []
   },
   "source": [
    "### Some of the commonly used libraries used by Data Scientists include:"
   ]
  },
  {
   "cell_type": "markdown",
   "id": "0d9e8574-f20f-450a-ae77-dcb1f024b655",
   "metadata": {},
   "source": [
    "1. Pandas\n",
    "2. GGplot2\n",
    "3. Ggally\n"
   ]
  },
  {
   "cell_type": "markdown",
   "id": "2a59c961-5d77-40d3-b286-41a84c8a8c95",
   "metadata": {},
   "source": [
    "1. Pandas\n",
    "2. GGplot2\n",
    "3. Ggally"
   ]
  },
  {
   "cell_type": "markdown",
   "id": "ad534805-3593-44d6-97b7-fa2c6772b8a8",
   "metadata": {
    "tags": []
   },
   "source": [
    "###### Exercise 6 - Create a markdown cell with a table of Data Science tools"
   ]
  },
  {
   "cell_type": "code",
   "execution_count": null,
   "id": "f09e228b-999b-462f-9a9e-e4f82c1bc1b9",
   "metadata": {},
   "outputs": [],
   "source": [
    "|Data Science Tools|\n",
    "|-----------------|\n",
    "|Jupyter Notebook|\n",
    "|R Studio|\n",
    "|VS Code|\n"
   ]
  },
  {
   "cell_type": "markdown",
   "id": "5aa9498e-53da-426f-a89e-06601037d5cb",
   "metadata": {},
   "source": [
    "|Data Science Tools|\n",
    "|-----------------|\n",
    "|Jupyter Notebook|\n",
    "|R Studio|\n",
    "|VS Code|\n"
   ]
  },
  {
   "cell_type": "markdown",
   "id": "62b2bdc3-680e-45e3-84f6-c500beb71e89",
   "metadata": {
    "tags": []
   },
   "source": [
    "###### Exercise 7 - Create a markdown cell introducing arithmetic expression examples"
   ]
  },
  {
   "cell_type": "code",
   "execution_count": null,
   "id": "feb8e9d8-0ba1-4955-bde9-0aa06d10b4ed",
   "metadata": {},
   "outputs": [],
   "source": [
    "### Below are a few examples of evaluating arithmetic expressions in Python"
   ]
  },
  {
   "cell_type": "markdown",
   "id": "4ac24d61-2527-450b-9bd7-989811450499",
   "metadata": {},
   "source": [
    "### Below are a few examples of evaluating arithmetic expressions in Python"
   ]
  },
  {
   "cell_type": "markdown",
   "id": "443fde55-9807-42ff-b34b-4178efad07dc",
   "metadata": {},
   "source": [
    "###### Exercise 8 - Create a code cell to multiply and add numbers"
   ]
  },
  {
   "cell_type": "code",
   "execution_count": null,
   "id": "804c8a22-8de8-4a55-8732-82abc13abb38",
   "metadata": {
    "tags": []
   },
   "outputs": [],
   "source": [
    "# This is a simple arithmetic expression to multiply then add integers"
   ]
  },
  {
   "cell_type": "code",
   "execution_count": 9,
   "id": "2e23a566-c554-4cb6-8bbd-ef9e771c7bbc",
   "metadata": {
    "tags": []
   },
   "outputs": [
    {
     "data": {
      "text/plain": [
       "17"
      ]
     },
     "execution_count": 9,
     "metadata": {},
     "output_type": "execute_result"
    }
   ],
   "source": [
    "(3*4)+5"
   ]
  },
  {
   "cell_type": "markdown",
   "id": "598c6492-51bb-41d0-899a-bce50b2ddb2f",
   "metadata": {},
   "source": [
    "###### Exercise 9 -  Create a code cell to convert minutes to hours"
   ]
  },
  {
   "cell_type": "code",
   "execution_count": null,
   "id": "1cf91389-1472-401c-bad2-50da834699e8",
   "metadata": {},
   "outputs": [],
   "source": [
    "# This will convert 200 minutes to hours by dividing by 60"
   ]
  },
  {
   "cell_type": "code",
   "execution_count": 10,
   "id": "f60851a1-e98c-4d92-8679-992b1a3d2322",
   "metadata": {
    "tags": []
   },
   "outputs": [
    {
     "data": {
      "text/plain": [
       "3.3333333333333335"
      ]
     },
     "execution_count": 10,
     "metadata": {},
     "output_type": "execute_result"
    }
   ],
   "source": [
    "200/60\n"
   ]
  },
  {
   "cell_type": "markdown",
   "id": "c083adbb-4991-46d9-b474-bcc83acd3f69",
   "metadata": {
    "jp-MarkdownHeadingCollapsed": true,
    "tags": []
   },
   "source": [
    "###### Exercise 10 -  is above"
   ]
  },
  {
   "cell_type": "markdown",
   "id": "543f2749-741d-452c-bd5d-edd086ec5953",
   "metadata": {
    "tags": []
   },
   "source": [
    "###### Exercise 11"
   ]
  },
  {
   "cell_type": "markdown",
   "id": "2644f2cb-6b30-4721-ba15-b869f9a2937c",
   "metadata": {},
   "source": [
    "## Author"
   ]
  },
  {
   "cell_type": "markdown",
   "id": "b56529d3-2d41-4209-91e0-dfae890c6fcd",
   "metadata": {},
   "source": [
    "Ferdinand"
   ]
  },
  {
   "cell_type": "code",
   "execution_count": null,
   "id": "c3e25068-321f-4dbe-8775-51af455bde53",
   "metadata": {},
   "outputs": [],
   "source": []
  }
 ],
 "metadata": {
  "kernelspec": {
   "display_name": "Python",
   "language": "python",
   "name": "conda-env-python-py"
  },
  "language_info": {
   "codemirror_mode": {
    "name": "ipython",
    "version": 3
   },
   "file_extension": ".py",
   "mimetype": "text/x-python",
   "name": "python",
   "nbconvert_exporter": "python",
   "pygments_lexer": "ipython3",
   "version": "3.7.12"
  }
 },
 "nbformat": 4,
 "nbformat_minor": 5
}
